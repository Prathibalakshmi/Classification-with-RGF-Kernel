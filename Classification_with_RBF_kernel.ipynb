{
 "cells": [
  {
   "cell_type": "code",
   "execution_count": 1,
   "metadata": {},
   "outputs": [],
   "source": [
    "import pandas as pd\n",
    "import numpy as np\n",
    "from sklearn.mixture import GaussianMixture\n",
    "from sklearn.model_selection import train_test_split\n",
    "from sklearn.metrics import f1_score,accuracy_score"
   ]
  },
  {
   "cell_type": "code",
   "execution_count": 2,
   "metadata": {},
   "outputs": [
    {
     "data": {
      "text/html": [
       "<div>\n",
       "<style scoped>\n",
       "    .dataframe tbody tr th:only-of-type {\n",
       "        vertical-align: middle;\n",
       "    }\n",
       "\n",
       "    .dataframe tbody tr th {\n",
       "        vertical-align: top;\n",
       "    }\n",
       "\n",
       "    .dataframe thead th {\n",
       "        text-align: right;\n",
       "    }\n",
       "</style>\n",
       "<table border=\"1\" class=\"dataframe\">\n",
       "  <thead>\n",
       "    <tr style=\"text-align: right;\">\n",
       "      <th></th>\n",
       "      <th>Unnamed: 0</th>\n",
       "      <th>id</th>\n",
       "      <th>gender</th>\n",
       "      <th>PPE</th>\n",
       "      <th>DFA</th>\n",
       "      <th>RPDE</th>\n",
       "      <th>numPulses</th>\n",
       "      <th>numPeriodsPulses</th>\n",
       "      <th>meanPeriodPulses</th>\n",
       "      <th>stdDevPeriodPulses</th>\n",
       "      <th>...</th>\n",
       "      <th>tqwt_kurtosisValue_dec_28</th>\n",
       "      <th>tqwt_kurtosisValue_dec_29</th>\n",
       "      <th>tqwt_kurtosisValue_dec_30</th>\n",
       "      <th>tqwt_kurtosisValue_dec_31</th>\n",
       "      <th>tqwt_kurtosisValue_dec_32</th>\n",
       "      <th>tqwt_kurtosisValue_dec_33</th>\n",
       "      <th>tqwt_kurtosisValue_dec_34</th>\n",
       "      <th>tqwt_kurtosisValue_dec_35</th>\n",
       "      <th>tqwt_kurtosisValue_dec_36</th>\n",
       "      <th>class</th>\n",
       "    </tr>\n",
       "  </thead>\n",
       "  <tbody>\n",
       "    <tr>\n",
       "      <th>0</th>\n",
       "      <td>0</td>\n",
       "      <td>11.0</td>\n",
       "      <td>1.0</td>\n",
       "      <td>0.82127</td>\n",
       "      <td>0.66846</td>\n",
       "      <td>0.26212</td>\n",
       "      <td>375.0</td>\n",
       "      <td>374.0</td>\n",
       "      <td>0.005139</td>\n",
       "      <td>0.000044</td>\n",
       "      <td>...</td>\n",
       "      <td>11.9821</td>\n",
       "      <td>6.5816</td>\n",
       "      <td>6.1763</td>\n",
       "      <td>4.8050</td>\n",
       "      <td>4.6671</td>\n",
       "      <td>5.8098</td>\n",
       "      <td>6.1651</td>\n",
       "      <td>4.5811</td>\n",
       "      <td>6.2012</td>\n",
       "      <td>0</td>\n",
       "    </tr>\n",
       "    <tr>\n",
       "      <th>1</th>\n",
       "      <td>1</td>\n",
       "      <td>14.0</td>\n",
       "      <td>0.0</td>\n",
       "      <td>0.88352</td>\n",
       "      <td>0.79509</td>\n",
       "      <td>0.36585</td>\n",
       "      <td>397.0</td>\n",
       "      <td>396.0</td>\n",
       "      <td>0.004861</td>\n",
       "      <td>0.000054</td>\n",
       "      <td>...</td>\n",
       "      <td>1.5935</td>\n",
       "      <td>2.2826</td>\n",
       "      <td>2.6744</td>\n",
       "      <td>2.4310</td>\n",
       "      <td>2.8983</td>\n",
       "      <td>8.2023</td>\n",
       "      <td>17.1918</td>\n",
       "      <td>16.8211</td>\n",
       "      <td>68.1856</td>\n",
       "      <td>0</td>\n",
       "    </tr>\n",
       "    <tr>\n",
       "      <th>2</th>\n",
       "      <td>2</td>\n",
       "      <td>24.0</td>\n",
       "      <td>0.0</td>\n",
       "      <td>0.20452</td>\n",
       "      <td>0.70358</td>\n",
       "      <td>0.67909</td>\n",
       "      <td>286.0</td>\n",
       "      <td>285.0</td>\n",
       "      <td>0.006754</td>\n",
       "      <td>0.002272</td>\n",
       "      <td>...</td>\n",
       "      <td>3.2624</td>\n",
       "      <td>3.3508</td>\n",
       "      <td>3.3938</td>\n",
       "      <td>3.5254</td>\n",
       "      <td>3.3666</td>\n",
       "      <td>4.1292</td>\n",
       "      <td>5.7149</td>\n",
       "      <td>3.9599</td>\n",
       "      <td>3.3665</td>\n",
       "      <td>0</td>\n",
       "    </tr>\n",
       "    <tr>\n",
       "      <th>3</th>\n",
       "      <td>3</td>\n",
       "      <td>27.0</td>\n",
       "      <td>0.0</td>\n",
       "      <td>0.34488</td>\n",
       "      <td>0.62269</td>\n",
       "      <td>0.48573</td>\n",
       "      <td>443.0</td>\n",
       "      <td>441.0</td>\n",
       "      <td>0.004353</td>\n",
       "      <td>0.000628</td>\n",
       "      <td>...</td>\n",
       "      <td>52.3417</td>\n",
       "      <td>29.9333</td>\n",
       "      <td>7.1216</td>\n",
       "      <td>3.5414</td>\n",
       "      <td>3.1618</td>\n",
       "      <td>2.9177</td>\n",
       "      <td>19.8108</td>\n",
       "      <td>35.6502</td>\n",
       "      <td>62.9818</td>\n",
       "      <td>0</td>\n",
       "    </tr>\n",
       "    <tr>\n",
       "      <th>4</th>\n",
       "      <td>4</td>\n",
       "      <td>27.0</td>\n",
       "      <td>0.0</td>\n",
       "      <td>0.84627</td>\n",
       "      <td>0.61553</td>\n",
       "      <td>0.58034</td>\n",
       "      <td>480.0</td>\n",
       "      <td>479.0</td>\n",
       "      <td>0.004019</td>\n",
       "      <td>0.000027</td>\n",
       "      <td>...</td>\n",
       "      <td>4.8888</td>\n",
       "      <td>3.3080</td>\n",
       "      <td>2.3842</td>\n",
       "      <td>2.8639</td>\n",
       "      <td>2.5491</td>\n",
       "      <td>2.4263</td>\n",
       "      <td>3.7174</td>\n",
       "      <td>4.6597</td>\n",
       "      <td>5.4125</td>\n",
       "      <td>0</td>\n",
       "    </tr>\n",
       "  </tbody>\n",
       "</table>\n",
       "<p>5 rows × 756 columns</p>\n",
       "</div>"
      ],
      "text/plain": [
       "   Unnamed: 0    id  gender      PPE      DFA     RPDE  numPulses  \\\n",
       "0           0  11.0     1.0  0.82127  0.66846  0.26212      375.0   \n",
       "1           1  14.0     0.0  0.88352  0.79509  0.36585      397.0   \n",
       "2           2  24.0     0.0  0.20452  0.70358  0.67909      286.0   \n",
       "3           3  27.0     0.0  0.34488  0.62269  0.48573      443.0   \n",
       "4           4  27.0     0.0  0.84627  0.61553  0.58034      480.0   \n",
       "\n",
       "   numPeriodsPulses  meanPeriodPulses  stdDevPeriodPulses  ...  \\\n",
       "0             374.0          0.005139            0.000044  ...   \n",
       "1             396.0          0.004861            0.000054  ...   \n",
       "2             285.0          0.006754            0.002272  ...   \n",
       "3             441.0          0.004353            0.000628  ...   \n",
       "4             479.0          0.004019            0.000027  ...   \n",
       "\n",
       "   tqwt_kurtosisValue_dec_28  tqwt_kurtosisValue_dec_29  \\\n",
       "0                    11.9821                     6.5816   \n",
       "1                     1.5935                     2.2826   \n",
       "2                     3.2624                     3.3508   \n",
       "3                    52.3417                    29.9333   \n",
       "4                     4.8888                     3.3080   \n",
       "\n",
       "   tqwt_kurtosisValue_dec_30  tqwt_kurtosisValue_dec_31  \\\n",
       "0                     6.1763                     4.8050   \n",
       "1                     2.6744                     2.4310   \n",
       "2                     3.3938                     3.5254   \n",
       "3                     7.1216                     3.5414   \n",
       "4                     2.3842                     2.8639   \n",
       "\n",
       "   tqwt_kurtosisValue_dec_32  tqwt_kurtosisValue_dec_33  \\\n",
       "0                     4.6671                     5.8098   \n",
       "1                     2.8983                     8.2023   \n",
       "2                     3.3666                     4.1292   \n",
       "3                     3.1618                     2.9177   \n",
       "4                     2.5491                     2.4263   \n",
       "\n",
       "   tqwt_kurtosisValue_dec_34  tqwt_kurtosisValue_dec_35  \\\n",
       "0                     6.1651                     4.5811   \n",
       "1                    17.1918                    16.8211   \n",
       "2                     5.7149                     3.9599   \n",
       "3                    19.8108                    35.6502   \n",
       "4                     3.7174                     4.6597   \n",
       "\n",
       "   tqwt_kurtosisValue_dec_36  class  \n",
       "0                     6.2012      0  \n",
       "1                    68.1856      0  \n",
       "2                     3.3665      0  \n",
       "3                    62.9818      0  \n",
       "4                     5.4125      0  \n",
       "\n",
       "[5 rows x 756 columns]"
      ]
     },
     "execution_count": 2,
     "metadata": {},
     "output_type": "execute_result"
    }
   ],
   "source": [
    "df = pd.read_csv(\"Parkinson_Dataset_2.csv\")\n",
    "df.head()"
   ]
  },
  {
   "cell_type": "code",
   "execution_count": 3,
   "metadata": {},
   "outputs": [
    {
     "name": "stdout",
     "output_type": "stream",
     "text": [
      "[[1.10000e+01 1.00000e+00 8.21270e-01 ... 4.58110e+00 6.20120e+00\n",
      "  0.00000e+00]\n",
      " [1.40000e+01 0.00000e+00 8.83520e-01 ... 1.68211e+01 6.81856e+01\n",
      "  0.00000e+00]\n",
      " [2.40000e+01 0.00000e+00 2.04520e-01 ... 3.95990e+00 3.36650e+00\n",
      "  0.00000e+00]\n",
      " ...\n",
      " [2.40000e+02 0.00000e+00 8.10960e-01 ... 3.72090e+00 2.74980e+01\n",
      "  1.00000e+00]\n",
      " [2.47000e+02 0.00000e+00 7.86450e-01 ... 4.14489e+01 9.06155e+01\n",
      "  1.00000e+00]\n",
      " [2.48000e+02 1.00000e+00 1.52730e-01 ... 8.12080e+00 2.98880e+00\n",
      "  1.00000e+00]]\n"
     ]
    }
   ],
   "source": [
    "df = df.iloc[:,1:]\n",
    "arr = df.values\n",
    "print(arr)\n",
    "X = arr[:,:-1]\n",
    "y = arr[:,-1]\n",
    "X_train,X_test,y_train,y_test = train_test_split(X,y,test_size=0.2)"
   ]
  },
  {
   "cell_type": "code",
   "execution_count": 5,
   "metadata": {},
   "outputs": [
    {
     "name": "stdout",
     "output_type": "stream",
     "text": [
      "(401, 754) (101, 754)\n"
     ]
    }
   ],
   "source": [
    "print(X_train.shape,X_test.shape)"
   ]
  },
  {
   "cell_type": "code",
   "execution_count": 20,
   "metadata": {},
   "outputs": [],
   "source": [
    "gmm = GaussianMixture(n_components=50,covariance_type='spherical')\n",
    "gmm.fit(X_train)\n",
    "prob_arr = gmm.predict_proba(X_train)"
   ]
  },
  {
   "cell_type": "code",
   "execution_count": 21,
   "metadata": {},
   "outputs": [
    {
     "name": "stdout",
     "output_type": "stream",
     "text": [
      "(401, 50)\n",
      "(401, 51) (401,)\n"
     ]
    }
   ],
   "source": [
    "print(prob_arr.shape)\n",
    "ones = np.ones((prob_arr.shape[0],1))\n",
    "feat_arr = np.hstack((prob_arr,ones))\n",
    "print(feat_arr.shape,y_train.shape)"
   ]
  },
  {
   "cell_type": "code",
   "execution_count": 22,
   "metadata": {},
   "outputs": [],
   "source": [
    "y_sig = []\n",
    "for i in range(len(y_train)):\n",
    "    if y_train[i]==0:\n",
    "        y_sig.append(0.001)\n",
    "    if y_train[i]==1:\n",
    "        y_sig.append(0.999)\n",
    "y_sig = np.array(y_sig)\n",
    "y_train_2 = np.log(y_sig/(1-y_sig))"
   ]
  },
  {
   "cell_type": "code",
   "execution_count": 23,
   "metadata": {},
   "outputs": [],
   "source": [
    "param = np.linalg.pinv(feat_arr)@y_train_2\n",
    "W = param[:-1]\n",
    "b = param[-1]"
   ]
  },
  {
   "cell_type": "code",
   "execution_count": 24,
   "metadata": {},
   "outputs": [
    {
     "name": "stdout",
     "output_type": "stream",
     "text": [
      "[1 0 0 1 1 1 1 1 1 0 0 1 0 0 0 1 0 1 0 0 0 0 1 0 1 0 0 0 1 1 1 0 0 0 1 1 1\n",
      " 0 1 0 1 1 1 0 1 1 0 0 0 1 1 1 0 0 0 0 0 1 1 0 0 1 0 1 1 1 1 1 1 0 1 1 1 1\n",
      " 1 1 0 0 0 0 0 1 0 0 0 0 1 0 0 0 1 1 0 0 1 1 0 0 0 0 1]\n",
      "[1. 0. 0. 1. 1. 1. 1. 1. 1. 1. 0. 0. 0. 0. 0. 1. 0. 1. 0. 0. 0. 1. 1. 1.\n",
      " 1. 0. 0. 0. 1. 0. 1. 0. 0. 0. 1. 1. 1. 0. 1. 0. 1. 1. 1. 1. 1. 1. 0. 0.\n",
      " 0. 1. 1. 1. 0. 1. 0. 0. 0. 1. 0. 0. 0. 1. 0. 1. 1. 1. 1. 1. 1. 0. 1. 1.\n",
      " 1. 1. 1. 1. 0. 0. 0. 0. 0. 0. 0. 0. 0. 0. 1. 0. 0. 0. 1. 1. 0. 0. 1. 1.\n",
      " 0. 0. 0. 0. 1.]\n"
     ]
    }
   ],
   "source": [
    "\n",
    "test_prob_arr = gmm.predict_proba(X_test)\n",
    "ones = np.ones((test_prob_arr.shape[0],1))\n",
    "test_feat_arr = np.hstack((test_prob_arr,ones))\n",
    "y_pred = test_feat_arr@param\n",
    "y_score = 1/(1+np.exp(-y_pred))\n",
    "y_final = []\n",
    "for i in range(len(y_score)):\n",
    "    if y_score[i]>=0.5:\n",
    "        y_final.append(1)\n",
    "    if y_score[i]<0.5:\n",
    "        y_final.append(0)\n",
    "y_final = np.array(y_final)\n",
    "print(y_final)\n",
    "print(y_test)"
   ]
  },
  {
   "cell_type": "code",
   "execution_count": 25,
   "metadata": {},
   "outputs": [
    {
     "data": {
      "text/plain": [
       "0.9108910891089109"
      ]
     },
     "execution_count": 25,
     "metadata": {},
     "output_type": "execute_result"
    }
   ],
   "source": [
    "accuracy_score(y_test,y_final)"
   ]
  },
  {
   "cell_type": "code",
   "execution_count": 26,
   "metadata": {},
   "outputs": [],
   "source": [
    "comp_array = np.linspace(10,100,10)\n",
    "\n",
    "acc_ls = []\n",
    "for comp in comp_array:\n",
    "    \n",
    "    gmm = GaussianMixture(n_components=50,covariance_type='spherical')\n",
    "    gmm.fit(X_train)\n",
    "    prob_arr = gmm.predict_proba(X_train)\n",
    "\n",
    "\n",
    "    ones = np.ones((prob_arr.shape[0],1))\n",
    "    feat_arr = np.hstack((prob_arr,ones))\n",
    "\n",
    "    y_sig = []\n",
    "    for i in range(len(y_train)):\n",
    "        if y_train[i]==0:\n",
    "            y_sig.append(0.001)\n",
    "        if y_train[i]==1:\n",
    "            y_sig.append(0.999)\n",
    "    y_sig = np.array(y_sig)\n",
    "    y_train_2 = np.log(y_sig/(1-y_sig))\n",
    "\n",
    "    param = np.linalg.pinv(feat_arr)@y_train_2\n",
    "\n",
    "    test_prob_arr = gmm.predict_proba(X_test)\n",
    "    ones = np.ones((test_prob_arr.shape[0],1))\n",
    "    test_feat_arr = np.hstack((test_prob_arr,ones))\n",
    "    y_pred = test_feat_arr@param\n",
    "    y_score = 1/(1+np.exp(-y_pred))\n",
    "    y_final = []\n",
    "    for i in range(len(y_score)):\n",
    "        if y_score[i]>=0.5:\n",
    "            y_final.append(1)\n",
    "        if y_score[i]<0.5:\n",
    "            y_final.append(0)\n",
    "    y_final = np.array(y_final)\n",
    "    acc = accuracy_score(y_test,y_final)\n",
    "    acc_ls.append(acc)"
   ]
  },
  {
   "cell_type": "code",
   "execution_count": 27,
   "metadata": {},
   "outputs": [
    {
     "data": {
      "text/plain": [
       "[<matplotlib.lines.Line2D at 0x1493c1837c8>]"
      ]
     },
     "execution_count": 27,
     "metadata": {},
     "output_type": "execute_result"
    },
    {
     "data": {
      "image/png": "[encoded data removed]",
      "text/plain": [
       "<Figure size 432x288 with 1 Axes>"
      ]
     },
     "metadata": {
      "needs_background": "light"
     },
     "output_type": "display_data"
    }
   ],
   "source": [
    "import matplotlib.pyplot as plt\n",
    "\n",
    "plt.plot(acc_ls)"
   ]
  },
  {
   "cell_type": "code",
   "execution_count": null,
   "metadata": {},
   "outputs": [],
   "source": []
  }
 ],
 "metadata": {
  "kernelspec": {
   "display_name": "Python 3 (ipykernel)",
   "language": "python",
   "name": "python3"
  },
  "language_info": {
   "codemirror_mode": {
    "name": "ipython",
    "version": 3
   },
   "file_extension": ".py",
   "mimetype": "text/x-python",
   "name": "python",
   "nbconvert_exporter": "python",
   "pygments_lexer": "ipython3",
   "version": "3.10.9"
  }
 },
 "nbformat": 4,
 "nbformat_minor": 4
}
